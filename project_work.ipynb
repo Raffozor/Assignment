{
 "cells": [
  {
   "cell_type": "code",
   "execution_count": null,
   "id": "fddb8a30-5fb1-4c3f-9269-bd1a550ea87d",
   "metadata": {},
   "outputs": [],
   "source": [
    "import pandas as pd\n",
    "import numpy as np\n",
    "import matplotlib.pyplot as plt\n",
    "from DataPreProcessor import DataPreProcessor"
   ]
  },
  {
   "cell_type": "markdown",
   "id": "b4fe3173-0456-4f01-acc7-8c402eab94e0",
   "metadata": {},
   "source": [
    "- carico il dataset\n",
    "- rimuovo i duplicati\n",
    "- rinomino le colonne"
   ]
  },
  {
   "cell_type": "code",
   "execution_count": null,
   "id": "83cf6046-40a4-4cad-a70e-5adc97a46fd6",
   "metadata": {},
   "outputs": [],
   "source": [
    "df= pd.read_csv('./census-income.zip', header= None)\n",
    "df.shape"
   ]
  },
  {
   "cell_type": "code",
   "execution_count": null,
   "id": "172bc559-2d00-4eda-abe8-dc991fe998f9",
   "metadata": {},
   "outputs": [],
   "source": [
    "df = df.drop(24, axis=1, errors='ignore').drop_duplicates() \n",
    "df.shape"
   ]
  },
  {
   "cell_type": "code",
   "execution_count": null,
   "id": "6cc4b1d1-aba5-4030-8899-db8af74b9b74",
   "metadata": {},
   "outputs": [],
   "source": [
    "mapping_cols= {  0: 'age',\n",
    "                 1: 'class_worker',\n",
    "                 2: 'industry_code',\n",
    "                 3: 'occupation_code',\n",
    "                 4: 'education',\n",
    "                 5: 'wage_per_hour',\n",
    "                 6: 'hs_college',\n",
    "                 7: 'marital_status',\n",
    "                 8: 'major_ind_code',\n",
    "                 9: 'major_occ_code',\n",
    "                 10: 'race',\n",
    "                 11: 'hisp_origin',\n",
    "                 12: 'gender',\n",
    "                 13: 'labor_union_member',\n",
    "                 14: 'unemployment_reason',\n",
    "                 15: 'full_or_part_emp',\n",
    "                 16: 'capital_gains',\n",
    "                 17: 'capital_losses',\n",
    "                 18: 'stock_dividends',\n",
    "                 19: 'tax_filer_stat',\n",
    "                 20: 'region_prev_res',\n",
    "                 21: 'state_prev_res',\n",
    "                 22: 'family_status',\n",
    "                 23: 'family_summary',\n",
    "                 25: 'mig_chg_msa',\n",
    "                 26: 'mig_chg_reg',\n",
    "                 27: 'mig_move_reg',\n",
    "                 28: 'mig_same',\n",
    "                 29: 'mig_prev_sunbelt',\n",
    "                 30: 'num_employees',\n",
    "                 31: 'familiars_U18',\n",
    "                 32: 'country_father',\n",
    "                 33: 'country_mother',\n",
    "                 34: 'country_self',\n",
    "                 35: 'citizenship',\n",
    "                 36: 'own_business',\n",
    "                 37: 'vet_question',\n",
    "                 38: 'vet_benefits',\n",
    "                 39: 'weeks_worked',\n",
    "                 40: 'survey_year',\n",
    "                 41: 'Target'}"
   ]
  },
  {
   "cell_type": "code",
   "execution_count": null,
   "id": "7f7ed90e-7278-4a7e-bf15-52418d339d0c",
   "metadata": {},
   "outputs": [],
   "source": [
    "new_columns= []\n",
    "\n",
    "for col in df:\n",
    "    new_columns.append(mapping_cols[col])\n",
    "    \n",
    "df.columns= new_columns"
   ]
  },
  {
   "cell_type": "markdown",
   "id": "9fd16a75-3f7e-4888-b71f-ef32391632f8",
   "metadata": {},
   "source": [
    "# Inizializzo la classe DataPreProcessor dal df"
   ]
  },
  {
   "cell_type": "code",
   "execution_count": null,
   "id": "7599e501-bb00-4084-8244-94fd141c6fe8",
   "metadata": {},
   "outputs": [],
   "source": [
    "df_dpp = DataPreProcessor(df)"
   ]
  },
  {
   "cell_type": "markdown",
   "id": "c295d4c9-0c48-4120-b39c-0a0fcc819449",
   "metadata": {},
   "source": [
    "- sostituisco i missing values da ' ?' a na\n",
    "- controllo il numero totale di na del dataset"
   ]
  },
  {
   "cell_type": "code",
   "execution_count": null,
   "id": "cc8df4d2-9df1-49b3-863e-dbbf4fa0521f",
   "metadata": {},
   "outputs": [],
   "source": [
    "df_dpp.replace_missing_values(' ?')\n",
    "df_dpp.data.isna().sum().sum()"
   ]
  },
  {
   "cell_type": "markdown",
   "id": "22d5e4fc-6e8d-4705-9405-4d2cab3dbb08",
   "metadata": {},
   "source": [
    "- plotto la % di na per ogni colonna"
   ]
  },
  {
   "cell_type": "code",
   "execution_count": null,
   "id": "649ffc2a-f32b-4b40-894a-7c596a7d8028",
   "metadata": {},
   "outputs": [],
   "source": [
    "df_dpp.summary_nan()"
   ]
  },
  {
   "cell_type": "markdown",
   "id": "a81a928b-b27c-4f9b-b63e-0b5e311cefb4",
   "metadata": {},
   "source": [
    "- creo 2 dataset training e test composte dal 70% e 30% del dataset originale. "
   ]
  },
  {
   "cell_type": "code",
   "execution_count": null,
   "id": "0e5ab30a-695a-4aef-9a93-a14cd376a7f5",
   "metadata": {},
   "outputs": [],
   "source": [
    "training, test = df_dpp.training_test()"
   ]
  },
  {
   "cell_type": "code",
   "execution_count": null,
   "id": "2fa1f94a-f788-439c-9b39-f3e14ee98089",
   "metadata": {},
   "outputs": [],
   "source": [
    "print(test.shape)\n",
    "print(training.shape)\n",
    "print(df_dpp.data.shape)"
   ]
  },
  {
   "cell_type": "markdown",
   "id": "baef3118-eff6-4372-956a-be7b38b5d785",
   "metadata": {},
   "source": [
    "- uso il metodo fill_na() per sostituire gli na con il valore medio della colonna in caso di variabile numerica, mentre con la moda per variabile non numerica\n",
    "- plotto nuovamente i valori mancanti per confermare che tutti gli na siano stati sostituiti"
   ]
  },
  {
   "cell_type": "code",
   "execution_count": null,
   "id": "5156d2e3-a535-45bd-8133-9898f4f67356",
   "metadata": {},
   "outputs": [],
   "source": [
    "df_dpp.fill_na()\n",
    "df_dpp.summary_nan()"
   ]
  },
  {
   "cell_type": "markdown",
   "id": "768c0946-dc00-476a-a59b-f5e3c35481e4",
   "metadata": {},
   "source": [
    "- uso il metodo run_preprocessing() per eseguire in un passaggio solo tutti i metodi visti in precedenza ad eccezione di quello per vedere il grafico degli na"
   ]
  },
  {
   "cell_type": "code",
   "execution_count": null,
   "id": "5679d98e-88a0-478b-b233-2a0b32eb2539",
   "metadata": {},
   "outputs": [],
   "source": [
    "tr, te = df_dpp.run_preprocessing(missing_value = ' ?', training = 0.7)"
   ]
  },
  {
   "cell_type": "code",
   "execution_count": null,
   "id": "9c43b8d8-79d5-42fe-9885-e6759466e86f",
   "metadata": {},
   "outputs": [],
   "source": [
    "print(te.shape)\n",
    "print(tr.shape)\n",
    "print(df_dpp.data.shape)"
   ]
  },
  {
   "cell_type": "code",
   "execution_count": null,
   "id": "2ac71c50-d0e4-4867-b8fe-43ec2d4f4e7b",
   "metadata": {},
   "outputs": [],
   "source": []
  }
 ],
 "metadata": {
  "kernelspec": {
   "display_name": "Python 3 (ipykernel)",
   "language": "python",
   "name": "python3"
  },
  "language_info": {
   "codemirror_mode": {
    "name": "ipython",
    "version": 3
   },
   "file_extension": ".py",
   "mimetype": "text/x-python",
   "name": "python",
   "nbconvert_exporter": "python",
   "pygments_lexer": "ipython3",
   "version": "3.10.10"
  }
 },
 "nbformat": 4,
 "nbformat_minor": 5
}
